{
  "nbformat": 4,
  "nbformat_minor": 0,
  "metadata": {
    "colab": {
      "name": "fashion_mnist.ipynb",
      "provenance": [],
      "collapsed_sections": [],
      "authorship_tag": "ABX9TyMmAQZI7yxEhVSTL2Kbzu21",
      "include_colab_link": true
    },
    "kernelspec": {
      "name": "python3",
      "display_name": "Python 3"
    }
  },
  "cells": [
    {
      "cell_type": "markdown",
      "metadata": {
        "id": "view-in-github",
        "colab_type": "text"
      },
      "source": [
        "<a href=\"https://colab.research.google.com/github/manishmeshram51/fashion_mnist/blob/master/fashion_mnist.ipynb\" target=\"_parent\"><img src=\"https://colab.research.google.com/assets/colab-badge.svg\" alt=\"Open In Colab\"/></a>"
      ]
    },
    {
      "cell_type": "markdown",
      "metadata": {
        "id": "I3VmZIRQJa3A",
        "colab_type": "text"
      },
      "source": [
        "Fashion mnist classification using keras "
      ]
    },
    {
      "cell_type": "code",
      "metadata": {
        "id": "oOBVU8KS6C_W",
        "colab_type": "code",
        "colab": {}
      },
      "source": [
        "import tensorflow as tf\n",
        "import pandas as pd\n",
        "import numpy as np\n",
        "import matplotlib.pyplot as plt\n",
        "import matplotlib.cm as cm\n"
      ],
      "execution_count": 0,
      "outputs": []
    },
    {
      "cell_type": "code",
      "metadata": {
        "id": "shHmPqjy6NE3",
        "colab_type": "code",
        "outputId": "05700e29-5ffd-4efb-ef83-cdab130070dc",
        "colab": {
          "base_uri": "https://localhost:8080/",
          "height": 34
        }
      },
      "source": [
        "\n",
        "# Load the fashion-mnist pre-shuffled train data and test data\n",
        "(x_train, y_train), (x_test, y_test) = tf.keras.datasets.fashion_mnist.load_data()\n",
        "\n",
        "print(\"x_train shape:\", x_train.shape, \"y_train shape:\", y_train.shape)\n"
      ],
      "execution_count": 94,
      "outputs": [
        {
          "output_type": "stream",
          "text": [
            "x_train shape: (60000, 28, 28) y_train shape: (60000,)\n"
          ],
          "name": "stdout"
        }
      ]
    },
    {
      "cell_type": "code",
      "metadata": {
        "id": "4-ZmVxmP6nZn",
        "colab_type": "code",
        "outputId": "2b960e2e-7ad2-4d28-ec35-84a8f17908fc",
        "colab": {
          "base_uri": "https://localhost:8080/",
          "height": 300
        }
      },
      "source": [
        "# shape of the image\n",
        "print(\"shape of the image \",x_train[0].shape)\n",
        "\n",
        "plt.imshow(x_train[0],cmap = cm.gray)\n"
      ],
      "execution_count": 91,
      "outputs": [
        {
          "output_type": "stream",
          "text": [
            "shape of the image  (28, 28)\n"
          ],
          "name": "stdout"
        },
        {
          "output_type": "execute_result",
          "data": {
            "text/plain": [
              "<matplotlib.image.AxesImage at 0x7f34265f76a0>"
            ]
          },
          "metadata": {
            "tags": []
          },
          "execution_count": 91
        },
        {
          "output_type": "display_data",
          "data": {
            "image/png": "[encoded data removed]",
            "text/plain": [
              "<Figure size 432x288 with 1 Axes>"
            ]
          },
          "metadata": {
            "tags": []
          }
        }
      ]
    },
    {
      "cell_type": "code",
      "metadata": {
        "id": "cAvvzYOwDmrS",
        "colab_type": "code",
        "colab": {}
      },
      "source": [
        "# Define the text labels\n",
        "fashion_mnist_labels = [\"T-shirt/top\",  # index 0\n",
        "                        \"Trouser\",      # index 1\n",
        "                        \"Pullover\",     # index 2 \n",
        "                        \"Dress\",        # index 3 \n",
        "                        \"Coat\",         # index 4\n",
        "                        \"Sandal\",       # index 5\n",
        "                        \"Shirt\",        # index 6 \n",
        "                        \"Sneaker\",      # index 7 \n",
        "                        \"Bag\",          # index 8 \n",
        "                        \"Ankle boot\"]   # index 9"
      ],
      "execution_count": 0,
      "outputs": []
    },
    {
      "cell_type": "code",
      "metadata": {
        "id": "BKGf46HC6z23",
        "colab_type": "code",
        "outputId": "027a2f50-cd6a-49c6-868e-1a262b77a08c",
        "colab": {
          "base_uri": "https://localhost:8080/",
          "height": 282
        }
      },
      "source": [
        "x_train = x_train.astype('float32') / 255\n",
        "x_test = x_test.astype('float32') / 255\n",
        "plt.imshow(x_train[0],cmap = cm.gray)"
      ],
      "execution_count": 95,
      "outputs": [
        {
          "output_type": "execute_result",
          "data": {
            "text/plain": [
              "<matplotlib.image.AxesImage at 0x7f3426630828>"
            ]
          },
          "metadata": {
            "tags": []
          },
          "execution_count": 95
        },
        {
          "output_type": "display_data",
          "data": {
            "image/png": "[encoded data removed]",
            "text/plain": [
              "<Figure size 432x288 with 1 Axes>"
            ]
          },
          "metadata": {
            "tags": []
          }
        }
      ]
    },
    {
      "cell_type": "code",
      "metadata": {
        "id": "R8M6XcSEEASH",
        "colab_type": "code",
        "outputId": "1f38ee75-17f2-4e48-de03-5e2651a3182e",
        "colab": {
          "base_uri": "https://localhost:8080/",
          "height": 87
        }
      },
      "source": [
        "# Further break training data into train / validation sets (# put 5000 into validation set and keep remaining 55,000 for train)\n",
        "(x_train, x_valid) = x_train[5000:], x_train[:5000] \n",
        "(y_train, y_valid) = y_train[5000:], y_train[:5000]\n",
        "\n",
        "# Reshape input data from (28, 28) to (28, 28, 1)\n",
        "w, h = 28, 28\n",
        "x_train = x_train.reshape(x_train.shape[0], w, h, 1)\n",
        "x_valid = x_valid.reshape(x_valid.shape[0], w, h, 1)\n",
        "x_test = x_test.reshape(x_test.shape[0], w, h, 1)\n",
        "\n",
        "# One-hot encode the labels\n",
        "y_train = tf.keras.utils.to_categorical(y_train, 10)\n",
        "y_valid = tf.keras.utils.to_categorical(y_valid, 10)\n",
        "y_test = tf.keras.utils.to_categorical(y_test, 10)\n",
        "\n",
        "# Print training set shape\n",
        "print(\"x_train shape:\", x_train.shape, \"y_train shape:\", y_train.shape)\n",
        "\n",
        "# Print the number of training, validation, and test datasets\n",
        "print(x_train.shape[0], 'train set')\n",
        "print(x_valid.shape[0], 'validation set')\n",
        "print(x_test.shape[0], 'test set')"
      ],
      "execution_count": 96,
      "outputs": [
        {
          "output_type": "stream",
          "text": [
            "x_train shape: (55000, 28, 28, 1) y_train shape: (55000, 10)\n",
            "55000 train set\n",
            "5000 validation set\n",
            "10000 test set\n"
          ],
          "name": "stdout"
        }
      ]
    },
    {
      "cell_type": "code",
      "metadata": {
        "id": "1Hfr0WPMABSr",
        "colab_type": "code",
        "outputId": "6a81c801-da29-4637-8811-e3d73cef592b",
        "colab": {
          "base_uri": "https://localhost:8080/",
          "height": 514
        }
      },
      "source": [
        "model = tf.keras.Sequential()\n",
        "\n",
        "# Must define the input shape in the first layer of the neural network\n",
        "model.add(tf.keras.layers.Conv2D(filters=64, kernel_size=2, padding='same', activation='relu', input_shape=(28,28,1))) \n",
        "model.add(tf.keras.layers.MaxPooling2D(pool_size=2))\n",
        "model.add(tf.keras.layers.Dropout(0.3))\n",
        "model.add(tf.keras.layers.Conv2D(filters=32, kernel_size=2, padding='same', activation='relu'))\n",
        "model.add(tf.keras.layers.MaxPooling2D(pool_size=2))\n",
        "model.add(tf.keras.layers.Dropout(0.3))\n",
        "model.add(tf.keras.layers.Flatten())\n",
        "model.add(tf.keras.layers.Dense(256, activation='relu'))\n",
        "model.add(tf.keras.layers.Dropout(0.5))\n",
        "model.add(tf.keras.layers.Dense(10, activation='softmax'))\n",
        "\n",
        "# Take a look at the model summary\n",
        "model.summary()"
      ],
      "execution_count": 98,
      "outputs": [
        {
          "output_type": "stream",
          "text": [
            "Model: \"sequential_6\"\n",
            "_________________________________________________________________\n",
            "Layer (type)                 Output Shape              Param #   \n",
            "=================================================================\n",
            "conv2d_12 (Conv2D)           (None, 28, 28, 64)        320       \n",
            "_________________________________________________________________\n",
            "max_pooling2d_12 (MaxPooling (None, 14, 14, 64)        0         \n",
            "_________________________________________________________________\n",
            "dropout_18 (Dropout)         (None, 14, 14, 64)        0         \n",
            "_________________________________________________________________\n",
            "conv2d_13 (Conv2D)           (None, 14, 14, 32)        8224      \n",
            "_________________________________________________________________\n",
            "max_pooling2d_13 (MaxPooling (None, 7, 7, 32)          0         \n",
            "_________________________________________________________________\n",
            "dropout_19 (Dropout)         (None, 7, 7, 32)          0         \n",
            "_________________________________________________________________\n",
            "flatten_6 (Flatten)          (None, 1568)              0         \n",
            "_________________________________________________________________\n",
            "dense_12 (Dense)             (None, 256)               401664    \n",
            "_________________________________________________________________\n",
            "dropout_20 (Dropout)         (None, 256)               0         \n",
            "_________________________________________________________________\n",
            "dense_13 (Dense)             (None, 10)                2570      \n",
            "=================================================================\n",
            "Total params: 412,778\n",
            "Trainable params: 412,778\n",
            "Non-trainable params: 0\n",
            "_________________________________________________________________\n"
          ],
          "name": "stdout"
        }
      ]
    },
    {
      "cell_type": "code",
      "metadata": {
        "id": "APqYuZsqAjz3",
        "colab_type": "code",
        "colab": {}
      },
      "source": [
        "model.compile(loss='categorical_crossentropy',\n",
        "             optimizer='adam',\n",
        "             metrics=['accuracy'])"
      ],
      "execution_count": 0,
      "outputs": []
    },
    {
      "cell_type": "code",
      "metadata": {
        "id": "ZTmapAttZZhA",
        "colab_type": "code",
        "outputId": "5b8adc8d-32ec-41e2-cb37-e4c878545e02",
        "colab": {
          "base_uri": "https://localhost:8080/",
          "height": 763
        }
      },
      "source": [
        "from keras.callbacks import ModelCheckpoint\n",
        "\n",
        "checkpointer = ModelCheckpoint(filepath='model.weights.best.hdf5', verbose = 1, save_best_only=True)\n",
        "model.fit(x_train,\n",
        "         y_train,\n",
        "         batch_size=64,\n",
        "         epochs=10,\n",
        "         validation_data=(x_valid, y_valid),\n",
        "         callbacks=[checkpointer])"
      ],
      "execution_count": 101,
      "outputs": [
        {
          "output_type": "stream",
          "text": [
            "Train on 55000 samples, validate on 5000 samples\n",
            "Epoch 1/10\n",
            "54976/55000 [============================>.] - ETA: 0s - loss: 0.6054 - acc: 0.7756\n",
            "Epoch 00001: val_loss improved from inf to 0.38642, saving model to model.weights.best.hdf5\n",
            "55000/55000 [==============================] - 72s 1ms/sample - loss: 0.6052 - acc: 0.7756 - val_loss: 0.3864 - val_acc: 0.8640\n",
            "Epoch 2/10\n",
            "54976/55000 [============================>.] - ETA: 0s - loss: 0.4225 - acc: 0.8466\n",
            "Epoch 00002: val_loss improved from 0.38642 to 0.32984, saving model to model.weights.best.hdf5\n",
            "55000/55000 [==============================] - 72s 1ms/sample - loss: 0.4224 - acc: 0.8467 - val_loss: 0.3298 - val_acc: 0.8836\n",
            "Epoch 3/10\n",
            "54976/55000 [============================>.] - ETA: 0s - loss: 0.3780 - acc: 0.8623\n",
            "Epoch 00003: val_loss improved from 0.32984 to 0.31103, saving model to model.weights.best.hdf5\n",
            "55000/55000 [==============================] - 71s 1ms/sample - loss: 0.3780 - acc: 0.8623 - val_loss: 0.3110 - val_acc: 0.8892\n",
            "Epoch 4/10\n",
            "54976/55000 [============================>.] - ETA: 0s - loss: 0.3515 - acc: 0.8720\n",
            "Epoch 00004: val_loss improved from 0.31103 to 0.28177, saving model to model.weights.best.hdf5\n",
            "55000/55000 [==============================] - 71s 1ms/sample - loss: 0.3514 - acc: 0.8721 - val_loss: 0.2818 - val_acc: 0.8952\n",
            "Epoch 5/10\n",
            "54976/55000 [============================>.] - ETA: 0s - loss: 0.3306 - acc: 0.8788\n",
            "Epoch 00005: val_loss improved from 0.28177 to 0.26946, saving model to model.weights.best.hdf5\n",
            "55000/55000 [==============================] - 73s 1ms/sample - loss: 0.3307 - acc: 0.8788 - val_loss: 0.2695 - val_acc: 0.9036\n",
            "Epoch 6/10\n",
            "54976/55000 [============================>.] - ETA: 0s - loss: 0.3177 - acc: 0.8841\n",
            "Epoch 00006: val_loss did not improve from 0.26946\n",
            "55000/55000 [==============================] - 73s 1ms/sample - loss: 0.3178 - acc: 0.8840 - val_loss: 0.2703 - val_acc: 0.9016\n",
            "Epoch 7/10\n",
            "54976/55000 [============================>.] - ETA: 0s - loss: 0.3022 - acc: 0.8890\n",
            "Epoch 00007: val_loss improved from 0.26946 to 0.24483, saving model to model.weights.best.hdf5\n",
            "55000/55000 [==============================] - 77s 1ms/sample - loss: 0.3021 - acc: 0.8891 - val_loss: 0.2448 - val_acc: 0.9110\n",
            "Epoch 8/10\n",
            "54976/55000 [============================>.] - ETA: 0s - loss: 0.2909 - acc: 0.8932\n",
            "Epoch 00008: val_loss improved from 0.24483 to 0.24218, saving model to model.weights.best.hdf5\n",
            "55000/55000 [==============================] - 76s 1ms/sample - loss: 0.2908 - acc: 0.8932 - val_loss: 0.2422 - val_acc: 0.9112\n",
            "Epoch 9/10\n",
            "54976/55000 [============================>.] - ETA: 0s - loss: 0.2836 - acc: 0.8969\n",
            "Epoch 00009: val_loss improved from 0.24218 to 0.23374, saving model to model.weights.best.hdf5\n",
            "55000/55000 [==============================] - 75s 1ms/sample - loss: 0.2837 - acc: 0.8968 - val_loss: 0.2337 - val_acc: 0.9150\n",
            "Epoch 10/10\n",
            "54976/55000 [============================>.] - ETA: 0s - loss: 0.2749 - acc: 0.8992\n",
            "Epoch 00010: val_loss did not improve from 0.23374\n",
            "55000/55000 [==============================] - 78s 1ms/sample - loss: 0.2748 - acc: 0.8992 - val_loss: 0.2357 - val_acc: 0.9104\n"
          ],
          "name": "stdout"
        },
        {
          "output_type": "execute_result",
          "data": {
            "text/plain": [
              "<tensorflow.python.keras.callbacks.History at 0x7f3426a2ef98>"
            ]
          },
          "metadata": {
            "tags": []
          },
          "execution_count": 101
        }
      ]
    },
    {
      "cell_type": "code",
      "metadata": {
        "id": "3-biiM_PA-0e",
        "colab_type": "code",
        "colab": {}
      },
      "source": [
        "# Load the weights with the best validation accuracy\n",
        "model.load_weights('model.weights.best.hdf5')"
      ],
      "execution_count": 0,
      "outputs": []
    },
    {
      "cell_type": "code",
      "metadata": {
        "id": "DG8KWmQTBGER",
        "colab_type": "code",
        "outputId": "3294002c-1bf5-46e2-d1ee-e905a06d117a",
        "colab": {
          "base_uri": "https://localhost:8080/",
          "height": 52
        }
      },
      "source": [
        "# Evaluate the model on test set\n",
        "score = model.evaluate(x_test, y_test, verbose=0)\n",
        "\n",
        "# Print test accuracy\n",
        "print('\\n', 'Test accuracy:', score[1])"
      ],
      "execution_count": 103,
      "outputs": [
        {
          "output_type": "stream",
          "text": [
            "\n",
            " Test accuracy: 0.9072\n"
          ],
          "name": "stdout"
        }
      ]
    },
    {
      "cell_type": "code",
      "metadata": {
        "id": "hSMJXCcxJBD3",
        "colab_type": "code",
        "outputId": "126b106a-d71f-4812-c9e6-191a6859b177",
        "colab": {
          "base_uri": "https://localhost:8080/",
          "height": 484
        }
      },
      "source": [
        "y_hat = model.predict(x_test)\n",
        "\n",
        "# Plot a random sample of 10 test images, their predicted labels and ground truth\n",
        "figure = plt.figure(figsize=(20, 8))\n",
        "for i, index in enumerate(np.random.choice(x_test.shape[0], size=15, replace=False)):\n",
        "    ax = figure.add_subplot(3, 5, i + 1, xticks=[], yticks=[])\n",
        "    # Display each image\n",
        "    ax.imshow(np.squeeze(x_test[index]))\n",
        "    predict_index = np.argmax(y_hat[index])\n",
        "    true_index = np.argmax(y_test[index])\n",
        "    # Set the title for each image\n",
        "    ax.set_title(\"{} ({})\".format(fashion_mnist_labels[predict_index], \n",
        "                                  fashion_mnist_labels[true_index]),\n",
        "                                  color=(\"green\" if predict_index == true_index else \"red\"))"
      ],
      "execution_count": 104,
      "outputs": [
        {
          "output_type": "display_data",
          "data": {
            "image/png": "[encoded data removed]",
            "text/plain": [
              "<Figure size 1440x576 with 15 Axes>"
            ]
          },
          "metadata": {
            "tags": []
          }
        }
      ]
    },
    {
      "cell_type": "code",
      "metadata": {
        "id": "FxqWfTgkJKjV",
        "colab_type": "code",
        "colab": {}
      },
      "source": [
        ""
      ],
      "execution_count": 0,
      "outputs": []
    }
  ]
}